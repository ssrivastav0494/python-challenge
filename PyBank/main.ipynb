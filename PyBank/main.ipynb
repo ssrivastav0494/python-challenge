{
 "cells": [
  {
   "cell_type": "code",
   "execution_count": 3,
   "metadata": {},
   "outputs": [],
   "source": [
    "import os\n",
    "import csv\n",
    "from pathlib import Path\n",
    "budget = Path(\"Resources/budget_data.csv\")"
   ]
  },
  {
   "cell_type": "code",
   "execution_count": null,
   "metadata": {},
   "outputs": [],
   "source": [
    "months = 0\n",
    "netprofit = 0\n",
    "netlist = []\n",
    "monthlist = []\n",
    "greatest_increase = [\"\", 0]\n",
    "greatest_decrease = [\"\", 9999999999999999999]"
   ]
  },
  {
   "cell_type": "code",
   "execution_count": 4,
   "metadata": {},
   "outputs": [],
   "source": [
    "with open(budget) as csvfile:\n",
    "    csvreader = csv.reader(csvfile, delimiter=\",\")\n",
    "    header = next(csvreader)\n",
    "    firstrow = next(csvreader)\n",
    "    months = months + 1\n",
    "    netprofit = netprofit + int(firstrow[1])\n",
    "    firstprofit = int(firstrow[1])\n",
    "    for x in csvreader:\n",
    "        months = months + 1\n",
    "        netprofit = netprofit + int(x[1])\n",
    "        netchange = int(x[1]) - firstprofit\n",
    "        firstprofit = int(x[1])\n",
    "        netlist = netlist + [netchange]\n",
    "        monthlist = monthlist + [x[0]]\n",
    "        if netprofit > greatest_increase[1]:\n",
    "            greatest_increase[0] = x[0]\n",
    "            greatest_increase[1] = netprofit\n",
    "        else:\n",
    "            greatest_decrease[0] = x[0]\n",
    "            greatest_decrease[1] = netchange"
   ]
  },
  {
   "cell_type": "code",
   "execution_count": null,
   "metadata": {},
   "outputs": [],
   "source": [
    "AvgChange = sum(netlist)/len(netlist)"
   ]
  }
 ],
 "metadata": {
  "kernelspec": {
   "display_name": "Python 3",
   "language": "python",
   "name": "python3"
  },
  "language_info": {
   "codemirror_mode": {
    "name": "ipython",
    "version": 3
   },
   "file_extension": ".py",
   "mimetype": "text/x-python",
   "name": "python",
   "nbconvert_exporter": "python",
   "pygments_lexer": "ipython3",
   "version": "3.6.10"
  }
 },
 "nbformat": 4,
 "nbformat_minor": 4
}
